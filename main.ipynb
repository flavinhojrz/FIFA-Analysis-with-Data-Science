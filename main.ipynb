{
 "cells": [
  {
   "cell_type": "code",
   "execution_count": 1,
   "metadata": {},
   "outputs": [],
   "source": [
    "import numpy as np\n",
    "import pandas as pd \n",
    "\n",
    "# for visualizations\n",
    "import matplotlib.pyplot as plt\n",
    "import seaborn as sns\n",
    "sns.set()"
   ]
  },
  {
   "cell_type": "code",
   "execution_count": null,
   "metadata": {},
   "outputs": [],
   "source": [
    "data = pd.read_csv('./archive/male_players.csv')\n",
    "# list(data.columns)\n",
    "# print(data.head)"
   ]
  },
  {
   "cell_type": "code",
   "execution_count": null,
   "metadata": {},
   "outputs": [],
   "source": [
    "def get_players_by_country(country, fifa_version_min=24):\n",
    "    players_by_country = data[(data['nationality_name'] == country) & (data['fifa_version'] >= fifa_version_min)]\n",
    "    top_players = players_by_country.nlargest(10, 'overall')\n",
    "    return top_players[['short_name', 'overall', 'potential', 'player_positions']]\n",
    "\n",
    "print(get_players_by_country('France'))\n"
   ]
  },
  {
   "cell_type": "code",
   "execution_count": null,
   "metadata": {},
   "outputs": [],
   "source": [
    "def get_players_by_team(x, fifa_version_min=24):\n",
    "    players = data[(data['club_name'] == x) & (data['fifa_version'] >= fifa_version_min)][['short_name','age','value_eur','club_jersey_number','club_position','nationality_name','overall','club_contract_valid_until_year']]\n",
    "    players['value_eur'] = players['value_eur'].apply(lambda x: f\"{x:,.0f} €\")\n",
    "    return players\n",
    "\n",
    "get_players_by_team('Real Madrid')"
   ]
  },
  {
   "cell_type": "code",
   "execution_count": null,
   "metadata": {},
   "outputs": [],
   "source": [
    "def get_high_potential_players(threshold=5):\n",
    "    players_with_potential = data[(data['fifa_version'] >= 24) & (data['potential'] - data['overall'] >= threshold) & (data['overall'] > 65) & (data['potential'] > 80) & (data['age'] < 21)]\n",
    "    players_with_potential['value_eur'] = players_with_potential['value_eur'].apply(lambda x: f\"{x:,.0f} €\")\n",
    "    top_players = players_with_potential.nlargest(40, 'potential')\n",
    "    return top_players[['short_name', 'overall', 'potential', 'player_positions', 'age', 'value_eur', 'club_contract_valid_until_year']]\n",
    "\n",
    "get_high_potential_players()\n"
   ]
  },
  {
   "cell_type": "code",
   "execution_count": null,
   "metadata": {},
   "outputs": [],
   "source": [
    "def list_all_positions():\n",
    "    all_positions = data['player_positions'].str.split(', ', expand=True).stack().unique()\n",
    "    return sorted(all_positions)\n",
    "\n",
    "def get_players_by_position(pos):\n",
    "    players = data[(data['fifa_version'] >= 24) & (data['player_positions'] == pos)]\n",
    "    return players[['short_name', 'overall', 'potential', 'player_positions']]\n",
    "\n",
    "print(list_all_positions())\n",
    "pos = input('Select player position:\\n')\n",
    "get_players_by_position(pos)"
   ]
  },
  {
   "cell_type": "code",
   "execution_count": null,
   "metadata": {},
   "outputs": [],
   "source": [
    "def get_best_players(position, fifa_version_min=24, top_n=10):\n",
    "    valid_positions = ['CAM', 'CB', 'CDM', 'CF', 'CM', 'GK', 'LB', 'LM', 'LW', 'LWB', 'RB', 'RM', 'RW', 'RWB', 'ST']\n",
    "    if position not in valid_positions:\n",
    "        raise ValueError(f\"Invalid position: {position}. Valid positions are {valid_positions}\")\n",
    "    players = data[(data['fifa_version'] >= fifa_version_min) & (data['player_positions'].str.contains(position))]\n",
    "    players['value_eur'] = players['value_eur'].apply(lambda x: f\"{x:,.0f} €\")\n",
    "    top_players = players.nlargest(top_n, 'overall')\n",
    "    return top_players[['short_name', 'overall', 'potential', 'player_positions', 'value_eur']]\n",
    "\n",
    "print(get_best_players('ST')) \n"
   ]
  },
  {
   "cell_type": "code",
   "execution_count": null,
   "metadata": {},
   "outputs": [],
   "source": [
    "valid_positions = ['CAM', 'CB', 'CDM', 'CF', 'CM', 'GK', 'LB', 'LM', 'LW', 'LWB', 'RB', 'RM', 'RW', 'RWB', 'ST']\n",
    "data_by_fc_24 = data[data['fifa_version'] >= 24]\n",
    "data_filtered = data_by_fc_24[data_by_fc_24['player_positions'].str.contains('|'.join(valid_positions))]\n",
    "\n",
    "plt.figure(figsize=(18,8))\n",
    "plt.style.use('fivethirtyeight')\n",
    "ax = sns.countplot(x='player_positions', data=data_filtered, palette='dark', order=valid_positions) \n",
    "ax.set_xlabel('Different Positions in FC24', fontsize=16)\n",
    "ax.set_ylabel('Count of Players', fontsize=16)\n",
    "ax.set_title('Comparison of Positions and Players', fontsize=20)\n",
    "plt.xticks(rotation=45)\n",
    "plt.show()\n"
   ]
  },
  {
   "cell_type": "code",
   "execution_count": null,
   "metadata": {},
   "outputs": [],
   "source": [
    "data_by_fc_24 = data[data['fifa_version'] >= 24]\n",
    "\n",
    "plt.style.use('dark_background')\n",
    "data_by_fc_24['nationality_name'].value_counts().head(80).plot.bar(color = 'orange', figsize = (20, 7))\n",
    "plt.title('Different Nations Participating in FC24', fontsize = 30, fontweight = 20)\n",
    "plt.xlabel('Name of The Country')\n",
    "plt.ylabel('count')\n",
    "plt.show()"
   ]
  }
 ],
 "metadata": {
  "kernelspec": {
   "display_name": "Python 3",
   "language": "python",
   "name": "python3"
  },
  "language_info": {
   "codemirror_mode": {
    "name": "ipython",
    "version": 3
   },
   "file_extension": ".py",
   "mimetype": "text/x-python",
   "name": "python",
   "nbconvert_exporter": "python",
   "pygments_lexer": "ipython3",
   "version": "3.12.5"
  }
 },
 "nbformat": 4,
 "nbformat_minor": 2
}
