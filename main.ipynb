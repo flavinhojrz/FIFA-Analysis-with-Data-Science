{
 "cells": [
  {
   "cell_type": "code",
   "execution_count": 3,
   "metadata": {},
   "outputs": [],
   "source": [
    "import numpy as np\n",
    "import pandas as pd \n",
    "\n",
    "# for visualizations\n",
    "import matplotlib.pyplot as plt\n",
    "import seaborn as sns\n",
    "sns.set()"
   ]
  },
  {
   "cell_type": "code",
   "execution_count": null,
   "metadata": {},
   "outputs": [],
   "source": [
    "data = pd.read_csv('./archive/male_players.csv')\n",
    "list(data.columns)\n",
    "print(data.head)"
   ]
  },
  {
   "cell_type": "code",
   "execution_count": null,
   "metadata": {},
   "outputs": [],
   "source": [
    "def get_players_by_country(country, fifa_version_min=24):\n",
    "    players_by_country = data[(data['nationality_name'] == country) & (data['fifa_version'] >= fifa_version_min)]\n",
    "    top_players = players_by_country.nlargest(10, 'overall')\n",
    "    return top_players[['short_name', 'overall', 'potential', 'player_positions']]\n",
    "\n",
    "print(get_players_by_country('France'))\n"
   ]
  },
  {
   "cell_type": "code",
   "execution_count": null,
   "metadata": {},
   "outputs": [],
   "source": [
    "def get_players_by_team(x, fifa_version_min=24):\n",
    "    players = data[(data['club_name'] == x) & (data['fifa_version'] >= fifa_version_min)][['short_name','age','value_eur','club_jersey_number','club_position','nationality_name','overall','club_contract_valid_until_year']]\n",
    "    players['value_eur'] = players['value_eur'].apply(lambda x: f\"{x:,.0f} €\")\n",
    "    return players\n",
    "\n",
    "get_players_by_team('Real Madrid')"
   ]
  },
  {
   "cell_type": "code",
   "execution_count": null,
   "metadata": {},
   "outputs": [],
   "source": [
    "def get_high_potential_players(threshold=5):\n",
    "    players_with_potential = data[(data['fifa_version'] >= 24) & (data['potential'] - data['overall'] >= threshold) & (data['overall'] > 65) & (data['potential'] > 80) & (data['age'] < 21)]\n",
    "    players_with_potential['value_eur'] = players_with_potential['value_eur'].apply(lambda x: f\"{x:,.0f} €\")\n",
    "    top_players = players_with_potential.nlargest(40, 'potential')\n",
    "    return top_players[['short_name', 'overall', 'potential', 'player_positions', 'age', 'value_eur', 'club_contract_valid_until_year']]\n",
    "\n",
    "get_high_potential_players()\n"
   ]
  },
  {
   "cell_type": "code",
   "execution_count": null,
   "metadata": {},
   "outputs": [],
   "source": []
  }
 ],
 "metadata": {
  "kernelspec": {
   "display_name": "Python 3",
   "language": "python",
   "name": "python3"
  },
  "language_info": {
   "codemirror_mode": {
    "name": "ipython",
    "version": 3
   },
   "file_extension": ".py",
   "mimetype": "text/x-python",
   "name": "python",
   "nbconvert_exporter": "python",
   "pygments_lexer": "ipython3",
   "version": "3.12.5"
  }
 },
 "nbformat": 4,
 "nbformat_minor": 2
}
